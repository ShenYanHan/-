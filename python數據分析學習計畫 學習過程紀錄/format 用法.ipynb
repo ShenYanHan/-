{
 "cells": [
  {
   "cell_type": "code",
   "execution_count": 9,
   "id": "1add6553",
   "metadata": {},
   "outputs": [],
   "source": [
    "name = \"\"\n",
    "place = \"\"\n",
    "message = \"\"\n",
    "def say_hi(name, place):\n",
    "    message = \"你好，來自{}的{}\".format(place, name)\n",
    "    return message"
   ]
  },
  {
   "cell_type": "code",
   "execution_count": 10,
   "id": "10fea184",
   "metadata": {},
   "outputs": [
    {
     "data": {
      "text/plain": [
       "'你好，來自高雄的延翰'"
      ]
     },
     "execution_count": 10,
     "metadata": {},
     "output_type": "execute_result"
    }
   ],
   "source": [
    "say_hi(\"延翰\", \"高雄\")"
   ]
  }
 ],
 "metadata": {
  "kernelspec": {
   "display_name": "Python 3 (ipykernel)",
   "language": "python",
   "name": "python3"
  },
  "language_info": {
   "codemirror_mode": {
    "name": "ipython",
    "version": 3
   },
   "file_extension": ".py",
   "mimetype": "text/x-python",
   "name": "python",
   "nbconvert_exporter": "python",
   "pygments_lexer": "ipython3",
   "version": "3.9.7"
  }
 },
 "nbformat": 4,
 "nbformat_minor": 5
}
