{
 "cells": [
  {
   "cell_type": "code",
   "execution_count": 1,
   "id": "1e8c6590",
   "metadata": {},
   "outputs": [],
   "source": [
    "s = 0"
   ]
  },
  {
   "cell_type": "code",
   "execution_count": 2,
   "id": "bea6989c",
   "metadata": {},
   "outputs": [],
   "source": [
    "s = s + 1"
   ]
  },
  {
   "cell_type": "code",
   "execution_count": 4,
   "id": "cf42235f",
   "metadata": {},
   "outputs": [
    {
     "data": {
      "text/plain": [
       "1"
      ]
     },
     "execution_count": 4,
     "metadata": {},
     "output_type": "execute_result"
    }
   ],
   "source": [
    "s"
   ]
  },
  {
   "cell_type": "code",
   "execution_count": 6,
   "id": "fe76af56",
   "metadata": {},
   "outputs": [],
   "source": [
    "s=s+1"
   ]
  },
  {
   "cell_type": "code",
   "execution_count": 7,
   "id": "a70faf46",
   "metadata": {},
   "outputs": [
    {
     "data": {
      "text/plain": [
       "2"
      ]
     },
     "execution_count": 7,
     "metadata": {},
     "output_type": "execute_result"
    }
   ],
   "source": [
    "s"
   ]
  },
  {
   "cell_type": "code",
   "execution_count": 8,
   "id": "deec7a1f",
   "metadata": {},
   "outputs": [
    {
     "name": "stdout",
     "output_type": "stream",
     "text": [
      "\n",
      "?\n",
      "??\n",
      "???\n",
      "????\n",
      "?????\n",
      "??????\n",
      "???????\n",
      "????????\n",
      "?????????\n"
     ]
    }
   ],
   "source": [
    "s=0\n",
    "while s<10:\n",
    "    print(\"?\"*s)\n",
    "    s=s+1"
   ]
  },
  {
   "cell_type": "code",
   "execution_count": 9,
   "id": "c1e9e4f8",
   "metadata": {},
   "outputs": [
    {
     "name": "stdout",
     "output_type": "stream",
     "text": [
      ">> 好累\n",
      "拍拍\n",
      ">> bye\n",
      "拍拍\n"
     ]
    }
   ],
   "source": [
    "message = \"\"\n",
    "while message != \"bye\":\n",
    "    message = input(\">> \")\n",
    "    print(\"拍拍\")"
   ]
  },
  {
   "cell_type": "code",
   "execution_count": null,
   "id": "b93cc296",
   "metadata": {},
   "outputs": [],
   "source": []
  }
 ],
 "metadata": {
  "kernelspec": {
   "display_name": "Python 3 (ipykernel)",
   "language": "python",
   "name": "python3"
  },
  "language_info": {
   "codemirror_mode": {
    "name": "ipython",
    "version": 3
   },
   "file_extension": ".py",
   "mimetype": "text/x-python",
   "name": "python",
   "nbconvert_exporter": "python",
   "pygments_lexer": "ipython3",
   "version": "3.9.7"
  }
 },
 "nbformat": 4,
 "nbformat_minor": 5
}
