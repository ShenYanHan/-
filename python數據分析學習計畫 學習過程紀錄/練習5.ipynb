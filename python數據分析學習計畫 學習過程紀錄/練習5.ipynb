{
 "cells": [
  {
   "cell_type": "code",
   "execution_count": 2,
   "id": "60dff8f5",
   "metadata": {},
   "outputs": [
    {
     "name": "stdout",
     "output_type": "stream",
     "text": [
      "hello, world\n"
     ]
    }
   ],
   "source": [
    "print(\"hello, world\")"
   ]
  },
  {
   "cell_type": "code",
   "execution_count": 4,
   "id": "eea2d644",
   "metadata": {},
   "outputs": [],
   "source": [
    "name=\"shen\""
   ]
  },
  {
   "cell_type": "code",
   "execution_count": 5,
   "id": "249006be",
   "metadata": {},
   "outputs": [
    {
     "data": {
      "text/plain": [
       "'shen'"
      ]
     },
     "execution_count": 5,
     "metadata": {},
     "output_type": "execute_result"
    }
   ],
   "source": [
    "name"
   ]
  },
  {
   "cell_type": "code",
   "execution_count": 6,
   "id": "162c61f0",
   "metadata": {},
   "outputs": [
    {
     "data": {
      "text/plain": [
       "'hello, shen!'"
      ]
     },
     "execution_count": 6,
     "metadata": {},
     "output_type": "execute_result"
    }
   ],
   "source": [
    "\"hello, \" + name + \"!\""
   ]
  },
  {
   "cell_type": "code",
   "execution_count": 8,
   "id": "cb8ebdd6",
   "metadata": {},
   "outputs": [],
   "source": [
    "hi = \"Hi!\"\n",
    "name = \"Shen\""
   ]
  },
  {
   "cell_type": "code",
   "execution_count": 9,
   "id": "8ce6758f",
   "metadata": {},
   "outputs": [
    {
     "data": {
      "text/plain": [
       "'Hi!Shen'"
      ]
     },
     "execution_count": 9,
     "metadata": {},
     "output_type": "execute_result"
    }
   ],
   "source": [
    "hi + name"
   ]
  },
  {
   "cell_type": "code",
   "execution_count": 10,
   "id": "521c752f",
   "metadata": {},
   "outputs": [],
   "source": [
    "message = '''name\n",
    "hi \n",
    "name'''"
   ]
  },
  {
   "cell_type": "code",
   "execution_count": 11,
   "id": "a70f6585",
   "metadata": {},
   "outputs": [
    {
     "name": "stdout",
     "output_type": "stream",
     "text": [
      "name\n",
      "hi \n",
      "name\n"
     ]
    }
   ],
   "source": [
    "print(message)"
   ]
  },
  {
   "cell_type": "code",
   "execution_count": 12,
   "id": "2bc4ff13",
   "metadata": {},
   "outputs": [
    {
     "data": {
      "text/plain": [
       "'name\\nhi \\nname'"
      ]
     },
     "execution_count": 12,
     "metadata": {},
     "output_type": "execute_result"
    }
   ],
   "source": [
    "message"
   ]
  },
  {
   "cell_type": "code",
   "execution_count": null,
   "id": "9fa54c08",
   "metadata": {},
   "outputs": [],
   "source": []
  }
 ],
 "metadata": {
  "kernelspec": {
   "display_name": "Python 3 (ipykernel)",
   "language": "python",
   "name": "python3"
  },
  "language_info": {
   "codemirror_mode": {
    "name": "ipython",
    "version": 3
   },
   "file_extension": ".py",
   "mimetype": "text/x-python",
   "name": "python",
   "nbconvert_exporter": "python",
   "pygments_lexer": "ipython3",
   "version": "3.9.7"
  }
 },
 "nbformat": 4,
 "nbformat_minor": 5
}
