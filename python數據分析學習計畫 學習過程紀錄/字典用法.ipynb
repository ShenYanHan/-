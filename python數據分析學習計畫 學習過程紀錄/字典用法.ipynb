{
 "cells": [
  {
   "cell_type": "code",
   "execution_count": 1,
   "id": "05aa2463",
   "metadata": {},
   "outputs": [],
   "source": [
    "%matplotlib inline\n",
    "import numpy as np\n",
    "import matplotlib.pyplot as plt"
   ]
  },
  {
   "cell_type": "code",
   "execution_count": 3,
   "id": "67a8035a",
   "metadata": {},
   "outputs": [],
   "source": [
    "mydict = {'apple':'蘋果', 'banana':'香蕉'}"
   ]
  },
  {
   "cell_type": "code",
   "execution_count": 4,
   "id": "1eb2e563",
   "metadata": {},
   "outputs": [
    {
     "data": {
      "text/plain": [
       "{'apple': '蘋果', 'banana': '香蕉'}"
      ]
     },
     "execution_count": 4,
     "metadata": {},
     "output_type": "execute_result"
    }
   ],
   "source": [
    "mydict"
   ]
  },
  {
   "cell_type": "code",
   "execution_count": 6,
   "id": "7109f373",
   "metadata": {},
   "outputs": [
    {
     "data": {
      "text/plain": [
       "'蘋果'"
      ]
     },
     "execution_count": 6,
     "metadata": {},
     "output_type": "execute_result"
    }
   ],
   "source": [
    "mydict['apple']"
   ]
  },
  {
   "cell_type": "code",
   "execution_count": 7,
   "id": "f31507a0",
   "metadata": {},
   "outputs": [],
   "source": [
    "mydict['orange'] = '柳橙'"
   ]
  },
  {
   "cell_type": "code",
   "execution_count": 8,
   "id": "ee5746f2",
   "metadata": {},
   "outputs": [
    {
     "data": {
      "text/plain": [
       "{'apple': '蘋果', 'banana': '香蕉', 'orange': '柳橙'}"
      ]
     },
     "execution_count": 8,
     "metadata": {},
     "output_type": "execute_result"
    }
   ],
   "source": [
    "mydict"
   ]
  },
  {
   "cell_type": "code",
   "execution_count": 9,
   "id": "e6b81e1e",
   "metadata": {},
   "outputs": [
    {
     "name": "stdout",
     "output_type": "stream",
     "text": [
      "apple:蘋果\n",
      "banana:香蕉\n",
      "orange:柳橙\n"
     ]
    }
   ],
   "source": [
    "for key in mydict:\n",
    "    print(\"{}:{}\".format(key, mydict[key]))"
   ]
  },
  {
   "cell_type": "code",
   "execution_count": null,
   "id": "77fa7444",
   "metadata": {},
   "outputs": [],
   "source": []
  }
 ],
 "metadata": {
  "kernelspec": {
   "display_name": "Python 3 (ipykernel)",
   "language": "python",
   "name": "python3"
  },
  "language_info": {
   "codemirror_mode": {
    "name": "ipython",
    "version": 3
   },
   "file_extension": ".py",
   "mimetype": "text/x-python",
   "name": "python",
   "nbconvert_exporter": "python",
   "pygments_lexer": "ipython3",
   "version": "3.9.7"
  }
 },
 "nbformat": 4,
 "nbformat_minor": 5
}
