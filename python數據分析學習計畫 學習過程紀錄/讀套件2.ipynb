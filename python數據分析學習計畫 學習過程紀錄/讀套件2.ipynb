{
 "cells": [
  {
   "cell_type": "code",
   "execution_count": 1,
   "id": "95df2a65",
   "metadata": {},
   "outputs": [],
   "source": [
    "from numpy import sin"
   ]
  },
  {
   "cell_type": "code",
   "execution_count": 2,
   "id": "4b40b561",
   "metadata": {},
   "outputs": [
    {
     "data": {
      "text/plain": [
       "0.1411200080598672"
      ]
     },
     "execution_count": 2,
     "metadata": {},
     "output_type": "execute_result"
    }
   ],
   "source": [
    "sin(3)"
   ]
  },
  {
   "cell_type": "code",
   "execution_count": 3,
   "id": "1442ceac",
   "metadata": {},
   "outputs": [],
   "source": [
    "from numpy import *"
   ]
  },
  {
   "cell_type": "code",
   "execution_count": 6,
   "id": "77e4f19f",
   "metadata": {},
   "outputs": [],
   "source": [
    "from random import *"
   ]
  },
  {
   "cell_type": "code",
   "execution_count": 7,
   "id": "1f6191e2",
   "metadata": {},
   "outputs": [
    {
     "data": {
      "text/plain": [
       "6"
      ]
     },
     "execution_count": 7,
     "metadata": {},
     "output_type": "execute_result"
    }
   ],
   "source": [
    "randint(1, 10)"
   ]
  },
  {
   "cell_type": "code",
   "execution_count": 9,
   "id": "f886dc60",
   "metadata": {},
   "outputs": [
    {
     "name": "stdout",
     "output_type": "stream",
     "text": [
      "8, 5, 8, 2, 3, 6, 1, 1, 3, 8, 8, 3, 9, 9, 2, 8, 5, 2, 1, 10, 8, 3, 2, 1, 3, 2, 1, 7, 1, 6, 3, 8, 2, 9, 7, 3, 2, 6, 7, 9, 2, 10, 10, 4, 5, 1, 5, 8, 10, 2, "
     ]
    }
   ],
   "source": [
    "for i in range(50):\n",
    "    print(randint(1, 10), end=\", \")"
   ]
  },
  {
   "cell_type": "code",
   "execution_count": 10,
   "id": "2a7cd2a4",
   "metadata": {},
   "outputs": [],
   "source": [
    "from numpy.random import *"
   ]
  },
  {
   "cell_type": "code",
   "execution_count": 11,
   "id": "d7b11e29",
   "metadata": {},
   "outputs": [
    {
     "name": "stdout",
     "output_type": "stream",
     "text": [
      "3, 1, 4, 8, 4, 7, 1, 8, 4, 9, 2, 8, 5, 7, 7, 4, 3, 9, 1, 1, 8, 6, 5, 3, 7, 8, 5, 2, 5, 4, 4, 2, 9, 4, 3, 2, 4, 3, 2, 1, 5, 5, 3, 6, 1, 9, 1, 2, 1, 7, "
     ]
    }
   ],
   "source": [
    "for i in range(50):\n",
    "    print(randint(1, 10), end=\", \")"
   ]
  },
  {
   "cell_type": "code",
   "execution_count": null,
   "id": "dce1ae2d",
   "metadata": {},
   "outputs": [],
   "source": []
  }
 ],
 "metadata": {
  "kernelspec": {
   "display_name": "Python 3 (ipykernel)",
   "language": "python",
   "name": "python3"
  },
  "language_info": {
   "codemirror_mode": {
    "name": "ipython",
    "version": 3
   },
   "file_extension": ".py",
   "mimetype": "text/x-python",
   "name": "python",
   "nbconvert_exporter": "python",
   "pygments_lexer": "ipython3",
   "version": "3.9.7"
  }
 },
 "nbformat": 4,
 "nbformat_minor": 5
}
