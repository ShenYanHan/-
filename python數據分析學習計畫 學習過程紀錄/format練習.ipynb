{
 "cells": [
  {
   "cell_type": "code",
   "execution_count": 4,
   "id": "f2a463ad",
   "metadata": {},
   "outputs": [],
   "source": [
    "name = \"Shen\"\n",
    "place = \"高雄\""
   ]
  },
  {
   "cell_type": "code",
   "execution_count": 5,
   "id": "16146ebe",
   "metadata": {},
   "outputs": [],
   "source": [
    "message = \"你好，來自{}的{}\".format(place, name)"
   ]
  },
  {
   "cell_type": "code",
   "execution_count": 6,
   "id": "2089b059",
   "metadata": {},
   "outputs": [
    {
     "name": "stdout",
     "output_type": "stream",
     "text": [
      "你好，來自高雄的Shen\n"
     ]
    }
   ],
   "source": [
    "print(message)"
   ]
  },
  {
   "cell_type": "code",
   "execution_count": 9,
   "id": "d3127218",
   "metadata": {},
   "outputs": [
    {
     "name": "stdout",
     "output_type": "stream",
     "text": [
      "270鎂合台幣8235.0元\n"
     ]
    }
   ],
   "source": [
    "m = 270\n",
    "print(\"{}鎂合台幣{}元\".format(m, m*30.5))"
   ]
  },
  {
   "cell_type": "code",
   "execution_count": null,
   "id": "7e726407",
   "metadata": {},
   "outputs": [],
   "source": []
  }
 ],
 "metadata": {
  "kernelspec": {
   "display_name": "Python 3 (ipykernel)",
   "language": "python",
   "name": "python3"
  },
  "language_info": {
   "codemirror_mode": {
    "name": "ipython",
    "version": 3
   },
   "file_extension": ".py",
   "mimetype": "text/x-python",
   "name": "python",
   "nbconvert_exporter": "python",
   "pygments_lexer": "ipython3",
   "version": "3.9.7"
  }
 },
 "nbformat": 4,
 "nbformat_minor": 5
}
