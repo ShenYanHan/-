{
 "cells": [
  {
   "cell_type": "code",
   "execution_count": 2,
   "id": "00ca0ef4",
   "metadata": {},
   "outputs": [
    {
     "name": "stdout",
     "output_type": "stream",
     "text": [
      "ok\n"
     ]
    }
   ],
   "source": [
    "a = 78\n",
    "if a > 7:\n",
    "    print(\"ok\")"
   ]
  },
  {
   "cell_type": "code",
   "execution_count": 3,
   "id": "bee6437e",
   "metadata": {},
   "outputs": [
    {
     "name": "stdout",
     "output_type": "stream",
     "text": [
      ">> \n"
     ]
    }
   ],
   "source": [
    "message = input(\">> \")\n",
    "if (\"悲傷\" in message):\n",
    "    print(\"拍拍\")"
   ]
  },
  {
   "cell_type": "code",
   "execution_count": 4,
   "id": "b627d764",
   "metadata": {},
   "outputs": [
    {
     "name": "stdout",
     "output_type": "stream",
     "text": [
      ">> \n",
      "我知道了\n"
     ]
    }
   ],
   "source": [
    "message = input(\">> \")\n",
    "if (\"悲傷\" in message):\n",
    "    print(\"拍拍\")\n",
    "else:\n",
    "    print(\"我知道了\")"
   ]
  },
  {
   "cell_type": "code",
   "execution_count": null,
   "id": "24ced419",
   "metadata": {},
   "outputs": [],
   "source": [
    "message = \"\"\n",
    "while message != \"bye\":\n",
    "    message = input(\">> \")\n",
    "    if (\"開心\" in message):\n",
    "        print(\"那不就好棒棒\")\n",
    "    elif (\"悲傷\" in message):\n",
    "        print(\"拍拍\")\n",
    "    elif (\"bye\" in message):\n",
    "        print(\"bye\")\n",
    "    else:\n",
    "        print(\"我知道了\")\n"
   ]
  },
  {
   "cell_type": "code",
   "execution_count": null,
   "id": "223d0378",
   "metadata": {},
   "outputs": [],
   "source": []
  }
 ],
 "metadata": {
  "kernelspec": {
   "display_name": "Python 3 (ipykernel)",
   "language": "python",
   "name": "python3"
  },
  "language_info": {
   "codemirror_mode": {
    "name": "ipython",
    "version": 3
   },
   "file_extension": ".py",
   "mimetype": "text/x-python",
   "name": "python",
   "nbconvert_exporter": "python",
   "pygments_lexer": "ipython3",
   "version": "3.9.7"
  }
 },
 "nbformat": 4,
 "nbformat_minor": 5
}
