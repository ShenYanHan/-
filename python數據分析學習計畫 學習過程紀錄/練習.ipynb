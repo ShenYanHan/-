{
 "cells": [
  {
   "cell_type": "code",
   "execution_count": 1,
   "id": "1dfef122",
   "metadata": {},
   "outputs": [],
   "source": [
    "keyword = \"悲傷\""
   ]
  },
  {
   "cell_type": "code",
   "execution_count": 2,
   "id": "05625889",
   "metadata": {},
   "outputs": [],
   "source": [
    "message = \"我今天覺得很悲傷。\""
   ]
  },
  {
   "cell_type": "code",
   "execution_count": 3,
   "id": "f3e9924c",
   "metadata": {},
   "outputs": [
    {
     "data": {
      "text/plain": [
       "True"
      ]
     },
     "execution_count": 3,
     "metadata": {},
     "output_type": "execute_result"
    }
   ],
   "source": [
    "keyword in message"
   ]
  },
  {
   "cell_type": "code",
   "execution_count": 4,
   "id": "b0ae7305",
   "metadata": {},
   "outputs": [],
   "source": [
    "message = \"我今天超開心\""
   ]
  },
  {
   "cell_type": "code",
   "execution_count": 5,
   "id": "874a7c2a",
   "metadata": {},
   "outputs": [
    {
     "data": {
      "text/plain": [
       "False"
      ]
     },
     "execution_count": 5,
     "metadata": {},
     "output_type": "execute_result"
    }
   ],
   "source": [
    "keyword in message"
   ]
  },
  {
   "cell_type": "code",
   "execution_count": 6,
   "id": "6088f073",
   "metadata": {},
   "outputs": [],
   "source": [
    "L = [35, 21, 41, 21, 548]"
   ]
  },
  {
   "cell_type": "code",
   "execution_count": 7,
   "id": "75579223",
   "metadata": {},
   "outputs": [
    {
     "data": {
      "text/plain": [
       "True"
      ]
     },
     "execution_count": 7,
     "metadata": {},
     "output_type": "execute_result"
    }
   ],
   "source": [
    "35 in L"
   ]
  },
  {
   "cell_type": "code",
   "execution_count": 8,
   "id": "6364b20f",
   "metadata": {},
   "outputs": [
    {
     "data": {
      "text/plain": [
       "False"
      ]
     },
     "execution_count": 8,
     "metadata": {},
     "output_type": "execute_result"
    }
   ],
   "source": [
    "22 in L"
   ]
  },
  {
   "cell_type": "code",
   "execution_count": null,
   "id": "d682e27c",
   "metadata": {},
   "outputs": [],
   "source": []
  }
 ],
 "metadata": {
  "kernelspec": {
   "display_name": "Python 3 (ipykernel)",
   "language": "python",
   "name": "python3"
  },
  "language_info": {
   "codemirror_mode": {
    "name": "ipython",
    "version": 3
   },
   "file_extension": ".py",
   "mimetype": "text/x-python",
   "name": "python",
   "nbconvert_exporter": "python",
   "pygments_lexer": "ipython3",
   "version": "3.9.7"
  }
 },
 "nbformat": 4,
 "nbformat_minor": 5
}
